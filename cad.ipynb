{
 "cells": [
  {
   "cell_type": "code",
   "execution_count": 1,
   "id": "a22ae043",
   "metadata": {},
   "outputs": [],
   "source": [
    "\n",
    "\"\"\"\n",
    "Written: cstewart000@gmail.com\n",
    " 6 june 2022\n",
    "\n",
    "https://ezdxf.readthedocs.io/en/stable/\n",
    "\"\"\"\n",
    "\n",
    "import sys\n",
    "import ezdxf\n",
    "#import shapely\n",
    "from ezdxf.addons import geo\n",
    "#from shapley.geometry import shape\n",
    "\n",
    "\n",
    "def readFile(filename):\n",
    "\n",
    "    try:\n",
    "        doc = ezdxf.readfile(filename)\n",
    "        msp = doc.modelspace()\n",
    "        return doc\n",
    "    except IOError:\n",
    "        print(f\"Not a DXF file or a generic I/O error.\")\n",
    "        sys.exit(1)\n",
    "    except ezdxf.DXFStructureError:\n",
    "        print(f\"Invalid or corrupted DXF file.\")\n",
    "        sys.exit(2)\n",
    "    \n",
    "    \n",
    "def testGaps(doc):\n",
    "    \n",
    "    print(f\"Test gaps\")\n",
    "    msp = doc.modelspace()\n",
    "    lines = msp.query(\"LWPOLYLINE\")\n",
    "    for line in lines:\n",
    "        if line is None:\n",
    "            print(f\"No lwpolylines in model - test passed\")\n",
    "\n",
    "        # print(line.closed)\n",
    "        if not line.closed:\n",
    "            return False\n",
    "        else:\n",
    "            return True\n",
    "\n",
    "def fixGaps(doc):\n",
    "    \n",
    "    print(f\"Close gaps\")\n",
    "    \n",
    "    msp = doc.modelspace()\n",
    "    lines = msp.query(\"LWPOLYLINE\")\n",
    "    for line in lines:\n",
    "        if line is None:\n",
    "            print(f\"No lwpolylines in model - test passed\")\n",
    "\n",
    "        # print(line.closed)\n",
    "        if not line.closed:\n",
    "            line.closed = True\n",
    "        \n",
    "    return doc\n",
    "\n",
    "\n",
    "def testElevation(doc):\n",
    "    \n",
    "    print(f\"Test elevation\")\n",
    "    msp = doc.modelspace()\n",
    "    lines = msp.query(\"LWPOLYLINE\")\n",
    "    for line in lines:\n",
    "        if line is None:\n",
    "            print(f\"No lwpolylines in model - test passed\")\n",
    "\n",
    "        # print(line.closed)\n",
    "        if line.dxf.elevation == 0 :\n",
    "            return True\n",
    "        else:\n",
    "            return False\n",
    "\n",
    "        \n",
    "def fixElevation(doc):\n",
    "    \n",
    "    print(f\"fix elevations\")\n",
    "    \n",
    "    msp = doc.modelspace()\n",
    "    lines = msp.query(\"LWPOLYLINE\")\n",
    "    for line in lines:\n",
    "        if line is None:\n",
    "            print(f\"No lwpolylines in model - test passed\")\n",
    "\n",
    "        # print(line.closed)\n",
    "        if line.dxf.elevation != 0 :\n",
    "            line.dxf.elevation = 0\n",
    "\n",
    "    return doc\n",
    "\n",
    "\n",
    "def findRange(doc):\n",
    "    \n",
    "    # TODO: implement a bounding box geom class\n",
    "    xMin= None\n",
    "    xMax=None\n",
    "    yMin=None\n",
    "    yMax =None\n",
    "    \n",
    "    print(f\"Test range\")\n",
    "    msp = doc.modelspace()\n",
    "    lines = msp.query(\"LWPOLYLINE\")\n",
    "    for line in lines:\n",
    "        if line is None:\n",
    "            print(f\"No lwpolylines in model - test passed\")\n",
    "\n",
    "        # print(line.closed)\n",
    "        for point in line:\n",
    "            if(xMin == None):\n",
    "                xMin= point[0]\n",
    "                xMax= point[0]\n",
    "                yMin=point[1]\n",
    "                yMax = point[1]\n",
    "                \n",
    "            else:      \n",
    "                if point[0]< xMin:\n",
    "                    xMin = point[0]\n",
    "                if point[0] > xMax: \n",
    "                    xMax = point[0]\n",
    "                if point[1] < yMin:\n",
    "                    yMin = point[1]\n",
    "                if point[1] < xMax:\n",
    "                    xMax = point[1]\n",
    "\n",
    "    return [xMin, yMin, xMax, yMax]\n",
    "                \n",
    "\n",
    "def testRange(doc):\n",
    "    docRange = findRange(doc)\n",
    "\n",
    "    if(docRange[0] > 0 and\n",
    "       docRange[1] > 0 and\n",
    "       docRange[2] < 2400 and\n",
    "       docRange[3] < 1200):\n",
    "        return True\n",
    "    else:\n",
    "        return False\n",
    "       \n",
    "\n",
    "def fixRange(doc):\n",
    "    \n",
    "    print(f\"fix range\")\n",
    "    \n",
    "    msp = doc.modelspace()\n",
    "    lines = msp.query(\"LWPOLYLINE\")\n",
    "    for line in lines:\n",
    "        if line is None:\n",
    "            print(f\"No lwpolylines in model - test passed\")\n",
    "\n",
    "        # print(line.closed)\n",
    "        if line.dxf.elevation != 0 :\n",
    "            line.dxf.elevation = 0\n",
    "\n",
    "    return doc\n",
    "\n",
    "def fixLayers(doc):\n",
    "    \n",
    "        \n",
    "    print(f\"Test layers\")\n",
    "    msp = doc.modelspace()\n",
    "    \n",
    "    #for layer in doc.layers:\n",
    "    #if layer.dxf.name != \"0\"\n",
    "    \n",
    "    circles = msp.query(\"CIRCLE\")\n",
    "    for circle in circles:\n",
    "        diameter = circle.dxf.radius*2\n",
    "        \n",
    "        if diameter<=8:\n",
    "            \n",
    "            circle.dxf.layer = \"DRILL_\"+str(diameter)\n",
    "            \n",
    "        else:\n",
    "            circle.dxf.layer = \"PROFILE_INT\"\n",
    "\n",
    "    plines = msp.query(\"LWPOLYLINE\")\n",
    "    \n",
    "    for pline in plines:\n",
    "        if pline.dxf.elevation == 0:\n",
    "           pline.dxf.layer = \"PROFILE\" \n",
    "        \n",
    "        else:\n",
    "            pocket_depth = 18.2 - pline.dxf.elevation\n",
    "            pline.dxf.layer = \"POCKET_\"+str(pocket_depth)\n",
    "            \n",
    "    return doc\n",
    "\n",
    "\n",
    "def fixLayersNested(doc):\n",
    "    \n",
    "        \n",
    "    print(f\"Fix Nested\")\n",
    "    msp = doc.modelspace()\n",
    "\n",
    "    plines = msp.query(\"LWPOLYLINE\")\n",
    "    \n",
    "    for pline in plines:\n",
    "        pline_proxy = geo.proxy(pline)\n",
    "        \n",
    "        \n",
    "        if pline.dxf.elevation == 0:\n",
    "           pline.dxf.layer = \"PROFILE\" \n",
    "        \n",
    "        else:\n",
    "            pocket_depth = 18.2 - pline.dxf.elevation\n",
    "            pline.dxf.layer = \"POCKET_\"+str(pocket_depth)\n",
    "            \n",
    "    return doc\n",
    "\n",
    "\n",
    "def hatchPlines(doc):\n",
    "    \n",
    "        \n",
    "    print(f\"hatching plines\")\n",
    "    msp = doc.modelspace()\n",
    "\n",
    "    plines = msp.query(\"LWPOLYLINE\")\n",
    "    \n",
    "    for pline in plines:\n",
    "        \n",
    "        hatch = msp.add_hatch(color=2)\n",
    "        hatch.paths.add_polyline_path(pline.get_points(format=\"xyb\"), is_closed=True)\n",
    "        \n",
    "            \n",
    "    return doc\n",
    "\n"
   ]
  },
  {
   "cell_type": "code",
   "execution_count": null,
   "id": "80710a8f",
   "metadata": {},
   "outputs": [],
   "source": []
  },
  {
   "cell_type": "code",
   "execution_count": 2,
   "id": "838516d0",
   "metadata": {},
   "outputs": [
    {
     "name": "stdout",
     "output_type": "stream",
     "text": [
      "Test gaps\n",
      "False\n"
     ]
    }
   ],
   "source": [
    "doc = readFile(\"Untitled Folder/non_conformance_gap.dxf\")\n",
    "print(testGaps(doc))\n"
   ]
  },
  {
   "cell_type": "code",
   "execution_count": 3,
   "id": "ea84af6d",
   "metadata": {},
   "outputs": [
    {
     "name": "stdout",
     "output_type": "stream",
     "text": [
      "Close gaps\n",
      "Test gaps\n",
      "True\n"
     ]
    }
   ],
   "source": [
    "doc = fixGaps(doc)\n",
    "print(testGaps(doc))\n",
    "\n",
    "\n",
    "doc.saveas(\"Untitled Folder/non_conformance_gap-fixed.dxf\")    \n",
    "            \n",
    "            "
   ]
  },
  {
   "cell_type": "code",
   "execution_count": 4,
   "id": "741b7a84",
   "metadata": {},
   "outputs": [
    {
     "name": "stdout",
     "output_type": "stream",
     "text": [
      "Test elevation\n",
      "False\n",
      "fix elevations\n"
     ]
    }
   ],
   "source": [
    "doc = readFile(\"Untitled Folder/non_conformance_elevation.dxf\")\n",
    "print(testElevation(doc))\n",
    "\n",
    "doc = fixElevation(doc)\n",
    "doc.saveas(\"Untitled Folder/non_conformance_elevation-fixed.dxf\")    \n"
   ]
  },
  {
   "cell_type": "code",
   "execution_count": 5,
   "id": "d0b0962c",
   "metadata": {},
   "outputs": [
    {
     "name": "stdout",
     "output_type": "stream",
     "text": [
      "Test range\n",
      "[-19547.585688, -23874.140792, -23874.140792, -13621.216393]\n",
      "Test range\n",
      "False\n"
     ]
    }
   ],
   "source": [
    "doc = readFile(\"Untitled Folder/non_conformance_negative_space.dxf\")\n",
    "print(findRange(doc))\n",
    "\n",
    "print(testRange(doc))\n",
    "\n",
    "\n",
    " "
   ]
  },
  {
   "cell_type": "code",
   "execution_count": 6,
   "id": "382d853f",
   "metadata": {},
   "outputs": [
    {
     "name": "stdout",
     "output_type": "stream",
     "text": [
      "Test layers\n"
     ]
    }
   ],
   "source": [
    "doc = readFile(\"Untitled Folder/non_conformance_layers.dxf\")\n",
    "#testLayers(doc)\n",
    "doc = fixLayers(doc)\n",
    "\n",
    "doc.saveas(\"Untitled Folder/non_conformance_layers-fixed.dxf\")    "
   ]
  },
  {
   "cell_type": "code",
   "execution_count": 7,
   "id": "a8bead14",
   "metadata": {},
   "outputs": [
    {
     "name": "stdout",
     "output_type": "stream",
     "text": [
      "hatching plines\n"
     ]
    }
   ],
   "source": [
    "doc = readFile(\"Untitled Folder/non_conformance_layers_nested_geometry.dxf\")\n",
    "#testLayers(doc)\n",
    "doc = hatchPlines(doc)\n",
    "\n",
    "doc.saveas(\"Untitled Folder/non_conformance_layers_nested_geometry-hatched.dxf\")\n"
   ]
  },
  {
   "cell_type": "code",
   "execution_count": null,
   "id": "55c123af",
   "metadata": {},
   "outputs": [],
   "source": [
    "\n",
    "    "
   ]
  },
  {
   "cell_type": "code",
   "execution_count": null,
   "id": "147805f2",
   "metadata": {},
   "outputs": [],
   "source": []
  },
  {
   "cell_type": "code",
   "execution_count": null,
   "id": "93c3f4f7",
   "metadata": {},
   "outputs": [],
   "source": []
  }
 ],
 "metadata": {
  "kernelspec": {
   "display_name": "venv",
   "language": "python",
   "name": "python3"
  },
  "language_info": {
   "codemirror_mode": {
    "name": "ipython",
    "version": 3
   },
   "file_extension": ".py",
   "mimetype": "text/x-python",
   "name": "python",
   "nbconvert_exporter": "python",
   "pygments_lexer": "ipython3",
   "version": "3.9.5 (tags/v3.9.5:0a7dcbd, May  3 2021, 17:27:52) [MSC v.1928 64 bit (AMD64)]"
  },
  "vscode": {
   "interpreter": {
    "hash": "c125f8fd0eaedb1720813c3c71f59c1199f01ba95f9106cbb6da94af421a7e0d"
   }
  }
 },
 "nbformat": 4,
 "nbformat_minor": 5
}
