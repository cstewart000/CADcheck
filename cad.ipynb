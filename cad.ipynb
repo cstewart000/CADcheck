{
 "cells": [
  {
   "cell_type": "code",
   "execution_count": 1,
   "id": "a22ae043",
   "metadata": {},
   "outputs": [
    {
     "data": {
      "text/plain": [
       "'    \\nmsp = doc.modelspace()\\n\\n;lines = msp.query(\\'LINE[layer==\"MyLayer\"]\\')\\n\\n;all_lines_by_color = msp.query(\"LINE\").groupby(\"color\")\\n\\n;entity.dxf.get(\"true_color\", 0)\\n\\n'"
      ]
     },
     "execution_count": 1,
     "metadata": {},
     "output_type": "execute_result"
    }
   ],
   "source": [
    "\n",
    "\"\"\"\n",
    "Written: cstewart000@gmail.com\n",
    " 6 june 2022\n",
    "\n",
    "https://ezdxf.readthedocs.io/en/stable/\n",
    "\"\"\"\n",
    "\n",
    "import sys\n",
    "import ezdxf\n",
    "\n",
    "\n",
    "\n",
    "def readFile(filename):\n",
    "\n",
    "    try:\n",
    "        doc = ezdxf.readfile(filename)\n",
    "        msp = doc.modelspace()\n",
    "        return doc\n",
    "    except IOError:\n",
    "        print(f\"Not a DXF file or a generic I/O error.\")\n",
    "        sys.exit(1)\n",
    "    except ezdxf.DXFStructureError:\n",
    "        print(f\"Invalid or corrupted DXF file.\")\n",
    "        sys.exit(2)\n",
    "    \n",
    "    \n",
    "def testGaps(doc):\n",
    "    \n",
    "    print(f\"Test gaps\")\n",
    "    msp = doc.modelspace()\n",
    "    lines = msp.query(\"LWPOLYLINE\")\n",
    "    for line in lines:\n",
    "        if line is None:\n",
    "            print(f\"No lwpolylines in model - test passed\")\n",
    "\n",
    "        # print(line.closed)\n",
    "        if not line.closed:\n",
    "            return False\n",
    "        else:\n",
    "            return True\n",
    "\n",
    "def fixGaps(doc):\n",
    "    \n",
    "    print(f\"Close gaps\")\n",
    "    \n",
    "    msp = doc.modelspace()\n",
    "    lines = msp.query(\"LWPOLYLINE\")\n",
    "    for line in lines:\n",
    "        if line is None:\n",
    "            print(f\"No lwpolylines in model - test passed\")\n",
    "\n",
    "        # print(line.closed)\n",
    "        if not line.closed:\n",
    "            line.closed = True\n",
    "        \n",
    "    return doc\n",
    "\n",
    "\n",
    "def testElevation(doc):\n",
    "    \n",
    "    print(f\"Test elevation\")\n",
    "    msp = doc.modelspace()\n",
    "    lines = msp.query(\"LWPOLYLINE\")\n",
    "    for line in lines:\n",
    "        if line is None:\n",
    "            print(f\"No lwpolylines in model - test passed\")\n",
    "\n",
    "        # print(line.closed)\n",
    "        if line.dxf.elevation == 0 :\n",
    "            return True\n",
    "        else:\n",
    "            return False\n",
    "\n",
    "        \n",
    "def fixElevation(doc):\n",
    "    \n",
    "    print(f\"fix elevations\")\n",
    "    \n",
    "    msp = doc.modelspace()\n",
    "    lines = msp.query(\"LWPOLYLINE\")\n",
    "    for line in lines:\n",
    "        if line is None:\n",
    "            print(f\"No lwpolylines in model - test passed\")\n",
    "\n",
    "        # print(line.closed)\n",
    "        if line.dxf.elevation != 0 :\n",
    "            line.dxf.elevation = 0\n",
    "\n",
    "    return doc\n",
    "\n",
    "\n",
    "def findRange(doc):\n",
    "    \n",
    "    # TODO: implement a bounding box geom class\n",
    "    xMin=0\n",
    "    xMax=0\n",
    "    yMin=0\n",
    "    yMax =0\n",
    "    \n",
    "    print(f\"Test range\")\n",
    "    msp = doc.modelspace()\n",
    "    lines = msp.query(\"LWPOLYLINE\")\n",
    "    for line in lines:\n",
    "        if line is None:\n",
    "            print(f\"No lwpolylines in model - test passed\")\n",
    "\n",
    "        # print(line.closed)\n",
    "        for point in line:\n",
    "            if point[0]< xMin:\n",
    "                xMin = point[0]\n",
    "            if point[0] > xMax: \n",
    "                xMax = point[0]\n",
    "            if point[1] < yMin:\n",
    "                yMin = point[1]\n",
    "            if point[1] < xMax:\n",
    "                xMax = point[1]\n",
    "\n",
    "    return [xMin, yMin, xMax, yMax]\n",
    "        \n",
    "def fixRange(doc):\n",
    "    \n",
    "    print(f\"fix range\")\n",
    "    \n",
    "    msp = doc.modelspace()\n",
    "    lines = msp.query(\"LWPOLYLINE\")\n",
    "    for line in lines:\n",
    "        if line is None:\n",
    "            print(f\"No lwpolylines in model - test passed\")\n",
    "\n",
    "        # print(line.closed)\n",
    "        if line.dxf.elevation != 0 :\n",
    "            line.dxf.elevation = 0\n",
    "\n",
    "    return doc\n",
    "\n",
    "\"\"\"    \n",
    "msp = doc.modelspace()\n",
    "\n",
    ";lines = msp.query('LINE[layer==\"MyLayer\"]')\n",
    "\n",
    ";all_lines_by_color = msp.query(\"LINE\").groupby(\"color\")\n",
    "\n",
    ";entity.dxf.get(\"true_color\", 0)\n",
    "\n",
    "\"\"\"  "
   ]
  },
  {
   "cell_type": "code",
   "execution_count": 2,
   "id": "838516d0",
   "metadata": {},
   "outputs": [
    {
     "name": "stdout",
     "output_type": "stream",
     "text": [
      "Test gaps\n",
      "False\n"
     ]
    }
   ],
   "source": [
    "doc = readFile(\"Untitled Folder/non_conformance_gap.dxf\")\n",
    "print(testGaps(doc))\n"
   ]
  },
  {
   "cell_type": "code",
   "execution_count": 3,
   "id": "ea84af6d",
   "metadata": {},
   "outputs": [
    {
     "name": "stdout",
     "output_type": "stream",
     "text": [
      "Close gaps\n",
      "Test gaps\n",
      "True\n"
     ]
    }
   ],
   "source": [
    "doc = fixGaps(doc)\n",
    "print(testGaps(doc))\n",
    "\n",
    "\n",
    "doc.saveas(\"Untitled Folder/non_conformance_gap-fixed.dxf\")    \n",
    "            \n",
    "            "
   ]
  },
  {
   "cell_type": "code",
   "execution_count": 4,
   "id": "741b7a84",
   "metadata": {},
   "outputs": [
    {
     "name": "stdout",
     "output_type": "stream",
     "text": [
      "Test elevation\n",
      "False\n",
      "fix elevations\n"
     ]
    }
   ],
   "source": [
    "doc = readFile(\"Untitled Folder/non_conformance_elevation.dxf\")\n",
    "print(testElevation(doc))\n",
    "\n",
    "doc = fixElevation(doc)\n",
    "doc.saveas(\"Untitled Folder/non_conformance_elevation-fixed.dxf\")    \n"
   ]
  },
  {
   "cell_type": "code",
   "execution_count": 5,
   "id": "d0b0962c",
   "metadata": {},
   "outputs": [
    {
     "ename": "UnboundLocalError",
     "evalue": "local variable 'xMin' referenced before assignment",
     "output_type": "error",
     "traceback": [
      "\u001b[1;31m---------------------------------------------------------------------------\u001b[0m",
      "\u001b[1;31mUnboundLocalError\u001b[0m                         Traceback (most recent call last)",
      "\u001b[1;32mC:\\Users\\CAMERO~1.STE\\AppData\\Local\\Temp/ipykernel_9356/1387940978.py\u001b[0m in \u001b[0;36m<module>\u001b[1;34m\u001b[0m\n\u001b[0;32m      1\u001b[0m \u001b[0mdoc\u001b[0m \u001b[1;33m=\u001b[0m \u001b[0mreadFile\u001b[0m\u001b[1;33m(\u001b[0m\u001b[1;34m\"Untitled Folder/non_conformance_negative_space.dxf\"\u001b[0m\u001b[1;33m)\u001b[0m\u001b[1;33m\u001b[0m\u001b[1;33m\u001b[0m\u001b[0m\n\u001b[1;32m----> 2\u001b[1;33m \u001b[0mprint\u001b[0m\u001b[1;33m(\u001b[0m\u001b[0mfindRange\u001b[0m\u001b[1;33m(\u001b[0m\u001b[0mdoc\u001b[0m\u001b[1;33m)\u001b[0m\u001b[1;33m)\u001b[0m\u001b[1;33m\u001b[0m\u001b[1;33m\u001b[0m\u001b[0m\n\u001b[0m\u001b[0;32m      3\u001b[0m \u001b[1;33m\u001b[0m\u001b[0m\n\u001b[0;32m      4\u001b[0m \u001b[1;33m\u001b[0m\u001b[0m\n",
      "\u001b[1;32mC:\\Users\\CAMERO~1.STE\\AppData\\Local\\Temp/ipykernel_9356/3964019103.py\u001b[0m in \u001b[0;36mfindRange\u001b[1;34m(doc)\u001b[0m\n\u001b[0;32m     93\u001b[0m \u001b[1;33m\u001b[0m\u001b[0m\n\u001b[0;32m     94\u001b[0m     \u001b[1;31m# TODO: implement a bounding box geom class\u001b[0m\u001b[1;33m\u001b[0m\u001b[1;33m\u001b[0m\u001b[1;33m\u001b[0m\u001b[0m\n\u001b[1;32m---> 95\u001b[1;33m     \u001b[0mxMin\u001b[0m\u001b[1;33m\u001b[0m\u001b[1;33m\u001b[0m\u001b[0m\n\u001b[0m\u001b[0;32m     96\u001b[0m     \u001b[0mxMax\u001b[0m\u001b[1;33m\u001b[0m\u001b[1;33m\u001b[0m\u001b[0m\n\u001b[0;32m     97\u001b[0m     \u001b[0myMin\u001b[0m\u001b[1;33m\u001b[0m\u001b[1;33m\u001b[0m\u001b[0m\n",
      "\u001b[1;31mUnboundLocalError\u001b[0m: local variable 'xMin' referenced before assignment"
     ]
    }
   ],
   "source": [
    "doc = readFile(\"Untitled Folder/non_conformance_negative_space.dxf\")\n",
    "print(findRange(doc))\n",
    "\n",
    " "
   ]
  },
  {
   "cell_type": "code",
   "execution_count": null,
   "id": "382d853f",
   "metadata": {},
   "outputs": [],
   "source": [
    "line = lines[0]"
   ]
  },
  {
   "cell_type": "code",
   "execution_count": null,
   "id": "a8bead14",
   "metadata": {},
   "outputs": [],
   "source": [
    "print(line)"
   ]
  },
  {
   "cell_type": "code",
   "execution_count": null,
   "id": "55c123af",
   "metadata": {},
   "outputs": [],
   "source": [
    "print(line.dxf.elevation)"
   ]
  },
  {
   "cell_type": "code",
   "execution_count": null,
   "id": "147805f2",
   "metadata": {},
   "outputs": [],
   "source": []
  }
 ],
 "metadata": {
  "kernelspec": {
   "display_name": "Python 3 (ipykernel)",
   "language": "python",
   "name": "python3"
  },
  "language_info": {
   "codemirror_mode": {
    "name": "ipython",
    "version": 3
   },
   "file_extension": ".py",
   "mimetype": "text/x-python",
   "name": "python",
   "nbconvert_exporter": "python",
   "pygments_lexer": "ipython3",
   "version": "3.9.5"
  }
 },
 "nbformat": 4,
 "nbformat_minor": 5
}
